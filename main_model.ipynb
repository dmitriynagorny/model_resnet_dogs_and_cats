{
 "cells": [
  {
   "cell_type": "code",
   "execution_count": 1,
   "metadata": {
    "collapsed": true
   },
   "outputs": [],
   "source": [
    "import torch\n",
    "import torch.nn as nn\n",
    "import torch.nn.functional as F\n",
    "\n",
    "import matplotlib.pyplot as plt\n",
    "from tqdm import tqdm\n",
    "import numpy as np\n",
    "import cv2\n",
    "from torch.cuda.amp import autocast\n",
    "import yaml\n",
    "\n",
    "from dataset import Dataset2class\n",
    "from model_ResNet import ResNet"
   ]
  },
  {
   "cell_type": "code",
   "execution_count": 12,
   "outputs": [],
   "source": [
    "option_path = 'configs/config.yml'\n",
    "with open(option_path, 'r') as file_option:\n",
    "    option = yaml.safe_load(file_option)"
   ],
   "metadata": {
    "collapsed": false
   }
  },
  {
   "cell_type": "code",
   "execution_count": 13,
   "outputs": [
    {
     "name": "stdout",
     "output_type": "stream",
     "text": [
      "Device name is NVIDIA GeForce RTX 3070\n"
     ]
    }
   ],
   "source": [
    "device = torch.device(option['device'])\n",
    "print(f'Device name is {torch.cuda.get_device_name(0)}')"
   ],
   "metadata": {
    "collapsed": false
   }
  },
  {
   "cell_type": "code",
   "execution_count": 14,
   "outputs": [],
   "source": [
    "# Создадим сеты\n",
    "train_dogs_path = option['paths']['train_path_0']\n",
    "train_cats_path = option['paths']['train_path_1']\n",
    "\n",
    "test_dogs_path = option['paths']['test_path_0']\n",
    "test_cats_path = option['paths']['test_path_1']\n",
    "\n",
    "train_ds_catsdogs = Dataset2class(train_dogs_path, train_cats_path, option['size'])\n",
    "test_ds_catsdogs = Dataset2class(test_dogs_path, test_cats_path, option['size'])"
   ],
   "metadata": {
    "collapsed": false
   }
  },
  {
   "cell_type": "code",
   "execution_count": 15,
   "outputs": [],
   "source": [
<<<<<<< HEAD
    "# Создадим даталоадер (параметры для датасетов)\n",
    "batch_size = option['batch_size'] # Это определяет на сколько данные делятся для каждой эпохи\n",
    "\n",
    "train_loader = torch.utils.data.DataLoader(\n",
    "    train_ds_catsdogs, # Подаем наши данные\n",
    "    shuffle=True, # Мешаем их\n",
    "    batch_size=batch_size, # Размер\n",
    "    num_workers=1, # Хз что это\n",
    "    drop_last=True # Удаляем последние, чтобы не ругался в случае чего (не понял до конца)\n",
=======
    "batch_size = option['batch_size']\n",
    "\n",
    "train_loader = torch.utils.data.DataLoader(\n",
    "    train_ds_catsdogs,\n",
    "    shuffle=True,\n",
    "    batch_size=batch_size,\n",
    "    num_workers=1,\n",
    "    drop_last=True\n",
>>>>>>> 42c07f3 (Model ResNet for definitions of dogs and cats)
    ")\n",
    "\n",
    "test_loader = torch.utils.data.DataLoader(\n",
    "    test_ds_catsdogs,\n",
    "    shuffle=True,\n",
    "    batch_size=1,\n",
    "    num_workers=1\n",
    ")"
   ],
   "metadata": {
    "collapsed": false
   }
  },
  {
   "cell_type": "code",
   "execution_count": 16,
   "outputs": [],
   "source": [
<<<<<<< HEAD
    "model = ResNet(option['network']['input_nc'], option['network']['base_nc'], option['network']['output_nc']).to(device) # Создадим класс\n",
=======
    "model = ResNet(option['network']['input_nc'], option['network']['base_nc'], option['network']['output_nc']).to(device)\n",
>>>>>>> 42c07f3 (Model ResNet for definitions of dogs and cats)
    "if option['load'] == True:\n",
    "    model.load_state_dict(torch.load(option['path_load']))"
   ],
   "metadata": {
    "collapsed": false
   }
  },
  {
   "cell_type": "code",
   "execution_count": 7,
   "outputs": [],
   "source": [
<<<<<<< HEAD
    "loss_fn = nn.CrossEntropyLoss() #Лосс\n",
    "optimizer = torch.optim.Adam(model.parameters(), lr=option['optimizer']['lr'], betas=(0.9, 0.999)) # Оптимайзер, lr - шаг, betas - хз что, но нужно делать так"
=======
    "loss_fn = nn.CrossEntropyLoss()\n",
    "optimizer = torch.optim.Adam(model.parameters(), lr=option['optimizer']['lr'], betas=(0.9, 0.999))"
>>>>>>> 42c07f3 (Model ResNet for definitions of dogs and cats)
   ],
   "metadata": {
    "collapsed": false
   }
  },
  {
   "cell_type": "code",
   "execution_count": 8,
   "outputs": [],
   "source": [
    "# Функция для оценки\n",
    "def accuracy(pred, label):\n",
    "    answer = F.softmax(pred.detach()).cpu().numpy().argmax(1) == label.cpu().numpy().argmax(1)\n",
    "    return answer.mean()"
   ],
   "metadata": {
    "collapsed": false
   }
  },
  {
   "cell_type": "code",
   "execution_count": 9,
   "outputs": [],
   "source": [
    "use_amp = option['params_cuda']['use_amp']\n",
    "scaler = torch.cuda.amp.GradScaler()"
   ],
   "metadata": {
    "collapsed": false
   }
  },
  {
   "cell_type": "code",
   "execution_count": 10,
   "outputs": [],
   "source": [
<<<<<<< HEAD
    "torch.backends.cudnn.benchmark = option['params_cuda']['benchmark'] # Автоматом выберет наиболее подходящий алгоритм в теории увеличит скорость, разницу не увидел...\n",
    "torch.backends.cudnn.deterministic = option['params_cuda']['deterministic'] # Выберет алгоритм для того чтобы всегда давать один и тот же результат (насколько понимаю скорость упадет, но исключает рандом)"
=======
    "torch.backends.cudnn.benchmark = option['params_cuda']['benchmark']\n",
    "torch.backends.cudnn.deterministic = option['params_cuda']['deterministic']"
>>>>>>> 42c07f3 (Model ResNet for definitions of dogs and cats)
   ],
   "metadata": {
    "collapsed": false
   }
  },
  {
   "cell_type": "code",
   "execution_count": 16,
   "outputs": [
    {
     "name": "stderr",
     "output_type": "stream",
     "text": [
      "  0%|          | 0/500 [00:00<?, ?it/s]/tmp/ipykernel_7031/1291657736.py:3: UserWarning: Implicit dimension choice for softmax has been deprecated. Change the call to include dim=X as an argument.\n",
      "  answer = F.softmax(pred.detach()).cpu().numpy().argmax(1) == label.cpu().numpy().argmax(1)\n",
      "loss: 0.22770\taccuracy: 0.938: 100%|██████████| 500/500 [00:24<00:00, 20.73it/s]\n"
     ]
    },
    {
     "name": "stdout",
     "output_type": "stream",
     "text": [
      "Epoch - 1\n",
      "LOSS train = 0.03177829132974148\n",
      "Accuracy train = 0.988375\n"
     ]
    },
    {
     "name": "stderr",
     "output_type": "stream",
     "text": [
      "loss: 0.16161\taccuracy: 1.000: 100%|██████████| 2000/2000 [00:11<00:00, 171.66it/s]\n"
     ]
    },
    {
     "name": "stdout",
     "output_type": "stream",
     "text": [
      "LOSS test = 0.28769871911116013\n",
      "Accuracy test = 0.8955\n"
     ]
    },
    {
     "name": "stderr",
     "output_type": "stream",
     "text": [
      "loss: 0.05295\taccuracy: 0.938: 100%|██████████| 500/500 [00:22<00:00, 22.35it/s]\n"
     ]
    },
    {
     "name": "stdout",
     "output_type": "stream",
     "text": [
      "Epoch - 2\n",
      "LOSS train = 0.04417634561657906\n",
      "Accuracy train = 0.9845\n"
     ]
    },
    {
     "name": "stderr",
     "output_type": "stream",
     "text": [
      "loss: 0.03873\taccuracy: 1.000: 100%|██████████| 2000/2000 [00:11<00:00, 172.87it/s]\n"
     ]
    },
    {
     "name": "stdout",
     "output_type": "stream",
     "text": [
      "LOSS test = 0.29826745334328236\n",
      "Accuracy test = 0.8845\n"
     ]
    },
    {
     "name": "stderr",
     "output_type": "stream",
     "text": [
      "loss: 0.00129\taccuracy: 1.000: 100%|██████████| 500/500 [00:22<00:00, 22.38it/s]\n"
     ]
    },
    {
     "name": "stdout",
     "output_type": "stream",
     "text": [
      "Epoch - 3\n",
      "LOSS train = 0.02912384803593159\n",
      "Accuracy train = 0.989375\n"
     ]
    },
    {
     "name": "stderr",
     "output_type": "stream",
     "text": [
      "loss: 0.00004\taccuracy: 1.000: 100%|██████████| 2000/2000 [00:11<00:00, 172.15it/s]\n"
     ]
    },
    {
     "name": "stdout",
     "output_type": "stream",
     "text": [
      "LOSS test = 0.33054531523960384\n",
      "Accuracy test = 0.891\n"
     ]
    },
    {
     "name": "stderr",
     "output_type": "stream",
     "text": [
      "loss: 0.00074\taccuracy: 1.000: 100%|██████████| 500/500 [00:22<00:00, 22.38it/s]\n"
     ]
    },
    {
     "name": "stdout",
     "output_type": "stream",
     "text": [
      "Epoch - 4\n",
      "LOSS train = 0.030285445854067804\n",
      "Accuracy train = 0.98775\n"
     ]
    },
    {
     "name": "stderr",
     "output_type": "stream",
     "text": [
      "loss: 0.04450\taccuracy: 1.000: 100%|██████████| 2000/2000 [00:11<00:00, 173.03it/s] \n"
     ]
    },
    {
     "name": "stdout",
     "output_type": "stream",
     "text": [
      "LOSS test = 0.3196483340023084\n",
      "Accuracy test = 0.8925\n"
     ]
    },
    {
     "name": "stderr",
     "output_type": "stream",
     "text": [
      "loss: 0.05930\taccuracy: 0.938: 100%|██████████| 500/500 [00:22<00:00, 22.45it/s]\n"
     ]
    },
    {
     "name": "stdout",
     "output_type": "stream",
     "text": [
      "Epoch - 5\n",
      "LOSS train = 0.03989171040058136\n",
      "Accuracy train = 0.985625\n"
     ]
    },
    {
     "name": "stderr",
     "output_type": "stream",
     "text": [
      "loss: 0.00468\taccuracy: 1.000: 100%|██████████| 2000/2000 [00:11<00:00, 173.13it/s]"
     ]
    },
    {
     "name": "stdout",
     "output_type": "stream",
     "text": [
      "LOSS test = 0.2818558870129999\n",
      "Accuracy test = 0.8945\n"
     ]
    },
    {
     "name": "stderr",
     "output_type": "stream",
     "text": [
      "\n"
     ]
    }
   ],
   "source": [
    "# Тренировочный цикл\n",
    "epochs = option['loops_params']['epoch']\n",
    "\n",
    "for epoch in range(epochs):\n",
    "    loss_val = 0\n",
    "    acc_val = 0\n",
<<<<<<< HEAD
    "    for sample in (pbar := tqdm(train_loader)): # tqdm - Это динамичный счетчик\n",
    "        with autocast(use_amp):\n",
    "            img, label = sample['img'], sample['label'] # Получим label и img(тенсор)\n",
    "            img = img.to(device)\n",
    "            optimizer.zero_grad() # Приведем к нулю значение оптимайзера\n",
    "\n",
    "            label = F.one_hot(label, 2).float() # Как то кодируем (не очень понял)\n",
    "            label = label.to(device)\n",
    "            pred = model(img) # Получим предсказание в виде массива с числами (где число больше то и будет предсказанным классом)\n",
    "\n",
    "        loss = loss_fn(pred, label) # Расчет лосса (У нас лосс - кроссэнтропия)\n",
    "\n",
    "        scaler.scale(loss).backward() # Как работает не понял (но это типо показываем, что обратно распространять ошибку будем)\n",
=======
    "    for sample in (pbar := tqdm(train_loader)):\n",
    "        with autocast(use_amp):\n",
    "            img, label = sample['img'], sample['label']\n",
    "            img = img.to(device)\n",
    "            optimizer.zero_grad()\n",
    "\n",
    "            label = F.one_hot(label, 2).float()\n",
    "            label = label.to(device)\n",
    "            pred = model(img)\n",
    "\n",
    "        loss = loss_fn(pred, label)\n",
    "\n",
    "        scaler.scale(loss).backward()\n",
>>>>>>> 42c07f3 (Model ResNet for definitions of dogs and cats)
    "        loss_item = loss.item() # Найдем лосс 1-го элемента и запишем\n",
    "        loss_val += loss_item # Засуммируем, чтобы потом средний найти\n",
    "\n",
    "        scaler.step(optimizer) # Закончим шаг\n",
    "        scaler.update()\n",
    "\n",
    "        acc_current = accuracy(pred, label) # Найдем скор элемента\n",
    "        acc_val += acc_current # Суммируем скоры, чтобы найти среднее\n",
    "\n",
    "        pbar.set_description(f'loss: {loss_item:.5f}\\taccuracy: {acc_current:.3f}')\n",
    "    print(f'Epoch - {epoch+1}')\n",
    "    print(f'LOSS train = {loss_val / len(train_loader)}')\n",
    "    print(f'Accuracy train = {acc_val / len(train_loader)}')\n",
    "\n",
    "    loss_val_test = 0\n",
    "    acc_val_test = 0\n",
    "    for sample in (pbar := tqdm(test_loader)):\n",
    "        with torch.no_grad():\n",
    "            img, label = sample['img'], sample['label']\n",
    "\n",
    "            label = F.one_hot(label, 2).float()\n",
    "            img = img.to(device)\n",
    "            label = label.to(device)\n",
    "            pred = model(img)\n",
    "\n",
    "            loss_test = loss_fn(pred, label)\n",
    "\n",
    "            loss_item_test = loss_test.item()\n",
    "            loss_val_test += loss_item_test\n",
    "\n",
    "            acc_current_test = accuracy(pred, label)\n",
    "            acc_val_test += acc_current_test\n",
    "\n",
    "        pbar.set_description(f'loss: {loss_item_test:.5f}\\taccuracy: {acc_current_test:.3f}')\n",
    "    print(f'LOSS test = {loss_val_test / len(test_loader)}')\n",
    "    print(f'Accuracy test = {acc_val_test / len(test_loader)}')"
   ],
   "metadata": {
    "collapsed": false
   }
  },
  {
   "cell_type": "code",
   "execution_count": 12,
   "outputs": [],
   "source": [
    "if option['save'] == True:\n",
    "    torch.save(model.state_dict(), option['path_save'])"
   ],
   "metadata": {
    "collapsed": false
   }
  },
  {
   "cell_type": "code",
   "execution_count": 13,
   "outputs": [],
   "source": [
    "# Test\n",
    "if option['tests'] == True:\n",
    "    for i in range(20):\n",
    "        test_exmpl = f'{option[\"path_test\"]}img_{1+i}.png'\n",
    "        img_exmpl = cv2.imread(test_exmpl, cv2.IMREAD_COLOR)\n",
    "        img_exmpl = cv2.cvtColor(img_exmpl, cv2.COLOR_BGR2RGB)\n",
    "        img_pr = img_exmpl\n",
    "        img_exmpl = img_exmpl.astype(np.float32)/255.0\n",
    "\n",
    "        img_exmpl = cv2.resize(img_exmpl, (option['size'], option['size']), interpolation=cv2.INTER_AREA)\n",
    "\n",
    "        img_exmpl = img_exmpl.transpose((2, 0, 1))\n",
    "\n",
    "        img_exmpl = np.expand_dims(img_exmpl, axis=0)\n",
    "\n",
    "        t_img_exmpl = torch.from_numpy(img_exmpl)\n",
    "\n",
    "        if F.softmax(model(t_img_exmpl.to(device)).cpu()).detach().numpy().argmax() == 0:\n",
    "            print('Пес')\n",
    "        else:\n",
    "            print('Кот')\n",
    "\n",
    "        plt.imshow(img_pr)\n",
    "        plt.show()"
   ],
   "metadata": {
    "collapsed": false
   }
  }
 ],
 "metadata": {
  "kernelspec": {
   "display_name": "Python 3",
   "language": "python",
   "name": "python3"
  },
  "language_info": {
   "codemirror_mode": {
    "name": "ipython",
    "version": 2
   },
   "file_extension": ".py",
   "mimetype": "text/x-python",
   "name": "python",
   "nbconvert_exporter": "python",
   "pygments_lexer": "ipython2",
   "version": "2.7.6"
  }
 },
 "nbformat": 4,
 "nbformat_minor": 0
}
